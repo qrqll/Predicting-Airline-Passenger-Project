{
  "cells": [
    {
      "cell_type": "code",
      "execution_count": null,
      "metadata": {
        "id": "h8waRuZ9zYQr"
      },
      "outputs": [],
      "source": [
        "library(ggplot2)"
      ]
    },
    {
      "cell_type": "code",
      "execution_count": null,
      "metadata": {
        "colab": {
          "base_uri": "https://localhost:8080/"
        },
        "id": "9OY9_L_1FBub",
        "outputId": "ae71eaed-f526-42e2-e772-28ef675db8a2"
      },
      "outputs": [
        {
          "output_type": "stream",
          "name": "stderr",
          "text": [
            "Installing package into ‘/usr/local/lib/R/site-library’\n",
            "(as ‘lib’ is unspecified)\n",
            "\n",
            "also installing the dependencies ‘listenv’, ‘parallelly’, ‘future’, ‘globals’, ‘shape’, ‘future.apply’, ‘numDeriv’, ‘progressr’, ‘SQUAREM’, ‘diagram’, ‘lava’, ‘prodlim’, ‘proxy’, ‘iterators’, ‘Rcpp’, ‘clock’, ‘gower’, ‘hardhat’, ‘ipred’, ‘timeDate’, ‘e1071’, ‘foreach’, ‘ModelMetrics’, ‘plyr’, ‘pROC’, ‘recipes’, ‘reshape2’\n",
            "\n",
            "\n"
          ]
        }
      ],
      "source": [
        "install.packages(\"caret\")"
      ]
    },
    {
      "cell_type": "code",
      "execution_count": null,
      "metadata": {
        "id": "b35q17sFFECO"
      },
      "outputs": [],
      "source": [
        "library(caret)"
      ]
    },
    {
      "cell_type": "code",
      "execution_count": null,
      "metadata": {
        "id": "xDCiOMfCmowH"
      },
      "outputs": [],
      "source": [
        "sat <-read.csv(\"/content/airline_clnd.csv\")\n"
      ]
    },
    {
      "cell_type": "code",
      "execution_count": null,
      "metadata": {
        "colab": {
          "base_uri": "https://localhost:8080/",
          "height": 375
        },
        "id": "AQEVp3t7eNqz",
        "outputId": "6746b040-4478-4300-b876-83f54fe1b037"
      },
      "outputs": [
        {
          "output_type": "display_data",
          "data": {
            "text/html": [
              "<table class=\"dataframe\">\n",
              "<caption>A data.frame: 6 × 25</caption>\n",
              "<thead>\n",
              "\t<tr><th></th><th scope=col>SR</th><th scope=col>id</th><th scope=col>Gender</th><th scope=col>Customer_Type</th><th scope=col>Age</th><th scope=col>Type_of_Travel</th><th scope=col>Class</th><th scope=col>Flight_Distance</th><th scope=col>Inflight_wifi_service</th><th scope=col>Departure.Arrival_time_convenient</th><th scope=col>⋯</th><th scope=col>Inflight_entertainment</th><th scope=col>On.board_service</th><th scope=col>Leg_room_service</th><th scope=col>Baggage_handling</th><th scope=col>Checkin_service</th><th scope=col>Inflight_service</th><th scope=col>Cleanliness</th><th scope=col>Departure_Delay_in_Minutes</th><th scope=col>Arrival_Delay_in_Minutes</th><th scope=col>satisfaction</th></tr>\n",
              "\t<tr><th></th><th scope=col>&lt;int&gt;</th><th scope=col>&lt;int&gt;</th><th scope=col>&lt;chr&gt;</th><th scope=col>&lt;chr&gt;</th><th scope=col>&lt;int&gt;</th><th scope=col>&lt;chr&gt;</th><th scope=col>&lt;chr&gt;</th><th scope=col>&lt;int&gt;</th><th scope=col>&lt;int&gt;</th><th scope=col>&lt;int&gt;</th><th scope=col>⋯</th><th scope=col>&lt;int&gt;</th><th scope=col>&lt;int&gt;</th><th scope=col>&lt;int&gt;</th><th scope=col>&lt;int&gt;</th><th scope=col>&lt;int&gt;</th><th scope=col>&lt;int&gt;</th><th scope=col>&lt;int&gt;</th><th scope=col>&lt;int&gt;</th><th scope=col>&lt;int&gt;</th><th scope=col>&lt;chr&gt;</th></tr>\n",
              "</thead>\n",
              "<tbody>\n",
              "\t<tr><th scope=row>1</th><td>0</td><td> 70172</td><td>Male  </td><td>Loyal Customer   </td><td>13</td><td>Personal Travel</td><td>Eco Plus</td><td> 460</td><td>3</td><td>4</td><td>⋯</td><td>5</td><td>4</td><td>3</td><td>4</td><td>4</td><td>5</td><td>5</td><td>25</td><td>18</td><td>neutral or dissatisfied</td></tr>\n",
              "\t<tr><th scope=row>2</th><td>1</td><td>  5047</td><td>Male  </td><td>disloyal Customer</td><td>25</td><td>Business travel</td><td>Business</td><td> 235</td><td>3</td><td>2</td><td>⋯</td><td>1</td><td>1</td><td>5</td><td>3</td><td>1</td><td>4</td><td>1</td><td> 1</td><td> 6</td><td>neutral or dissatisfied</td></tr>\n",
              "\t<tr><th scope=row>3</th><td>2</td><td>110028</td><td>Female</td><td>Loyal Customer   </td><td>26</td><td>Business travel</td><td>Business</td><td>1142</td><td>2</td><td>2</td><td>⋯</td><td>5</td><td>4</td><td>3</td><td>4</td><td>4</td><td>4</td><td>5</td><td> 0</td><td> 0</td><td>satisfied              </td></tr>\n",
              "\t<tr><th scope=row>4</th><td>3</td><td> 24026</td><td>Female</td><td>Loyal Customer   </td><td>25</td><td>Business travel</td><td>Business</td><td> 562</td><td>2</td><td>5</td><td>⋯</td><td>2</td><td>2</td><td>5</td><td>3</td><td>1</td><td>4</td><td>2</td><td>11</td><td> 9</td><td>neutral or dissatisfied</td></tr>\n",
              "\t<tr><th scope=row>5</th><td>4</td><td>119299</td><td>Male  </td><td>Loyal Customer   </td><td>61</td><td>Business travel</td><td>Business</td><td> 214</td><td>3</td><td>3</td><td>⋯</td><td>3</td><td>3</td><td>4</td><td>4</td><td>3</td><td>3</td><td>3</td><td> 0</td><td> 0</td><td>satisfied              </td></tr>\n",
              "\t<tr><th scope=row>6</th><td>5</td><td>111157</td><td>Female</td><td>Loyal Customer   </td><td>26</td><td>Personal Travel</td><td>Eco     </td><td>1180</td><td>3</td><td>4</td><td>⋯</td><td>1</td><td>3</td><td>4</td><td>4</td><td>4</td><td>4</td><td>1</td><td> 0</td><td> 0</td><td>neutral or dissatisfied</td></tr>\n",
              "</tbody>\n",
              "</table>\n"
            ],
            "text/markdown": "\nA data.frame: 6 × 25\n\n| <!--/--> | SR &lt;int&gt; | id &lt;int&gt; | Gender &lt;chr&gt; | Customer_Type &lt;chr&gt; | Age &lt;int&gt; | Type_of_Travel &lt;chr&gt; | Class &lt;chr&gt; | Flight_Distance &lt;int&gt; | Inflight_wifi_service &lt;int&gt; | Departure.Arrival_time_convenient &lt;int&gt; | ⋯ ⋯ | Inflight_entertainment &lt;int&gt; | On.board_service &lt;int&gt; | Leg_room_service &lt;int&gt; | Baggage_handling &lt;int&gt; | Checkin_service &lt;int&gt; | Inflight_service &lt;int&gt; | Cleanliness &lt;int&gt; | Departure_Delay_in_Minutes &lt;int&gt; | Arrival_Delay_in_Minutes &lt;int&gt; | satisfaction &lt;chr&gt; |\n|---|---|---|---|---|---|---|---|---|---|---|---|---|---|---|---|---|---|---|---|---|---|\n| 1 | 0 |  70172 | Male   | Loyal Customer    | 13 | Personal Travel | Eco Plus |  460 | 3 | 4 | ⋯ | 5 | 4 | 3 | 4 | 4 | 5 | 5 | 25 | 18 | neutral or dissatisfied |\n| 2 | 1 |   5047 | Male   | disloyal Customer | 25 | Business travel | Business |  235 | 3 | 2 | ⋯ | 1 | 1 | 5 | 3 | 1 | 4 | 1 |  1 |  6 | neutral or dissatisfied |\n| 3 | 2 | 110028 | Female | Loyal Customer    | 26 | Business travel | Business | 1142 | 2 | 2 | ⋯ | 5 | 4 | 3 | 4 | 4 | 4 | 5 |  0 |  0 | satisfied               |\n| 4 | 3 |  24026 | Female | Loyal Customer    | 25 | Business travel | Business |  562 | 2 | 5 | ⋯ | 2 | 2 | 5 | 3 | 1 | 4 | 2 | 11 |  9 | neutral or dissatisfied |\n| 5 | 4 | 119299 | Male   | Loyal Customer    | 61 | Business travel | Business |  214 | 3 | 3 | ⋯ | 3 | 3 | 4 | 4 | 3 | 3 | 3 |  0 |  0 | satisfied               |\n| 6 | 5 | 111157 | Female | Loyal Customer    | 26 | Personal Travel | Eco      | 1180 | 3 | 4 | ⋯ | 1 | 3 | 4 | 4 | 4 | 4 | 1 |  0 |  0 | neutral or dissatisfied |\n\n",
            "text/latex": "A data.frame: 6 × 25\n\\begin{tabular}{r|lllllllllllllllllllll}\n  & SR & id & Gender & Customer\\_Type & Age & Type\\_of\\_Travel & Class & Flight\\_Distance & Inflight\\_wifi\\_service & Departure.Arrival\\_time\\_convenient & ⋯ & Inflight\\_entertainment & On.board\\_service & Leg\\_room\\_service & Baggage\\_handling & Checkin\\_service & Inflight\\_service & Cleanliness & Departure\\_Delay\\_in\\_Minutes & Arrival\\_Delay\\_in\\_Minutes & satisfaction\\\\\n  & <int> & <int> & <chr> & <chr> & <int> & <chr> & <chr> & <int> & <int> & <int> & ⋯ & <int> & <int> & <int> & <int> & <int> & <int> & <int> & <int> & <int> & <chr>\\\\\n\\hline\n\t1 & 0 &  70172 & Male   & Loyal Customer    & 13 & Personal Travel & Eco Plus &  460 & 3 & 4 & ⋯ & 5 & 4 & 3 & 4 & 4 & 5 & 5 & 25 & 18 & neutral or dissatisfied\\\\\n\t2 & 1 &   5047 & Male   & disloyal Customer & 25 & Business travel & Business &  235 & 3 & 2 & ⋯ & 1 & 1 & 5 & 3 & 1 & 4 & 1 &  1 &  6 & neutral or dissatisfied\\\\\n\t3 & 2 & 110028 & Female & Loyal Customer    & 26 & Business travel & Business & 1142 & 2 & 2 & ⋯ & 5 & 4 & 3 & 4 & 4 & 4 & 5 &  0 &  0 & satisfied              \\\\\n\t4 & 3 &  24026 & Female & Loyal Customer    & 25 & Business travel & Business &  562 & 2 & 5 & ⋯ & 2 & 2 & 5 & 3 & 1 & 4 & 2 & 11 &  9 & neutral or dissatisfied\\\\\n\t5 & 4 & 119299 & Male   & Loyal Customer    & 61 & Business travel & Business &  214 & 3 & 3 & ⋯ & 3 & 3 & 4 & 4 & 3 & 3 & 3 &  0 &  0 & satisfied              \\\\\n\t6 & 5 & 111157 & Female & Loyal Customer    & 26 & Personal Travel & Eco      & 1180 & 3 & 4 & ⋯ & 1 & 3 & 4 & 4 & 4 & 4 & 1 &  0 &  0 & neutral or dissatisfied\\\\\n\\end{tabular}\n",
            "text/plain": [
              "  SR id     Gender Customer_Type     Age Type_of_Travel  Class   \n",
              "1 0   70172 Male   Loyal Customer    13  Personal Travel Eco Plus\n",
              "2 1    5047 Male   disloyal Customer 25  Business travel Business\n",
              "3 2  110028 Female Loyal Customer    26  Business travel Business\n",
              "4 3   24026 Female Loyal Customer    25  Business travel Business\n",
              "5 4  119299 Male   Loyal Customer    61  Business travel Business\n",
              "6 5  111157 Female Loyal Customer    26  Personal Travel Eco     \n",
              "  Flight_Distance Inflight_wifi_service Departure.Arrival_time_convenient ⋯\n",
              "1  460            3                     4                                 ⋯\n",
              "2  235            3                     2                                 ⋯\n",
              "3 1142            2                     2                                 ⋯\n",
              "4  562            2                     5                                 ⋯\n",
              "5  214            3                     3                                 ⋯\n",
              "6 1180            3                     4                                 ⋯\n",
              "  Inflight_entertainment On.board_service Leg_room_service Baggage_handling\n",
              "1 5                      4                3                4               \n",
              "2 1                      1                5                3               \n",
              "3 5                      4                3                4               \n",
              "4 2                      2                5                3               \n",
              "5 3                      3                4                4               \n",
              "6 1                      3                4                4               \n",
              "  Checkin_service Inflight_service Cleanliness Departure_Delay_in_Minutes\n",
              "1 4               5                5           25                        \n",
              "2 1               4                1            1                        \n",
              "3 4               4                5            0                        \n",
              "4 1               4                2           11                        \n",
              "5 3               3                3            0                        \n",
              "6 4               4                1            0                        \n",
              "  Arrival_Delay_in_Minutes satisfaction           \n",
              "1 18                       neutral or dissatisfied\n",
              "2  6                       neutral or dissatisfied\n",
              "3  0                       satisfied              \n",
              "4  9                       neutral or dissatisfied\n",
              "5  0                       satisfied              \n",
              "6  0                       neutral or dissatisfied"
            ]
          },
          "metadata": {}
        }
      ],
      "source": [
        "sate <-read.csv(\"/content/airline_clnd.csv\")\n",
        "head(sate)"
      ]
    },
    {
      "cell_type": "code",
      "execution_count": null,
      "metadata": {
        "colab": {
          "base_uri": "https://localhost:8080/",
          "height": 69
        },
        "id": "btX4BNjqD1uG",
        "outputId": "50c2cf2b-be24-4ec4-9c33-52189a401ee3"
      },
      "outputs": [
        {
          "output_type": "display_data",
          "data": {
            "text/html": [
              "<style>\n",
              ".dl-inline {width: auto; margin:0; padding: 0}\n",
              ".dl-inline>dt, .dl-inline>dd {float: none; width: auto; display: inline-block}\n",
              ".dl-inline>dt::after {content: \":\\0020\"; padding-right: .5ex}\n",
              ".dl-inline>dt:not(:first-of-type) {padding-left: .5ex}\n",
              "</style><dl class=dl-inline><dt>SR</dt><dd>0</dd><dt>id</dt><dd>0</dd><dt>Gender</dt><dd>0</dd><dt>Customer_Type</dt><dd>0</dd><dt>Age</dt><dd>0</dd><dt>Type_of_Travel</dt><dd>0</dd><dt>Class</dt><dd>0</dd><dt>Flight_Distance</dt><dd>0</dd><dt>Inflight_wifi_service</dt><dd>0</dd><dt>Departure.Arrival_time_convenient</dt><dd>0</dd><dt>Ease_of_Online_booking</dt><dd>0</dd><dt>Gate_location</dt><dd>0</dd><dt>Food_and_drink</dt><dd>0</dd><dt>Online_boarding</dt><dd>0</dd><dt>Seat_comfort</dt><dd>0</dd><dt>Inflight_entertainment</dt><dd>0</dd><dt>On.board_service</dt><dd>0</dd><dt>Leg_room_service</dt><dd>0</dd><dt>Baggage_handling</dt><dd>0</dd><dt>Checkin_service</dt><dd>0</dd><dt>Inflight_service</dt><dd>0</dd><dt>Cleanliness</dt><dd>0</dd><dt>Departure_Delay_in_Minutes</dt><dd>0</dd><dt>Arrival_Delay_in_Minutes</dt><dd>0</dd><dt>satisfaction</dt><dd>0</dd></dl>\n"
            ],
            "text/markdown": "SR\n:   0id\n:   0Gender\n:   0Customer_Type\n:   0Age\n:   0Type_of_Travel\n:   0Class\n:   0Flight_Distance\n:   0Inflight_wifi_service\n:   0Departure.Arrival_time_convenient\n:   0Ease_of_Online_booking\n:   0Gate_location\n:   0Food_and_drink\n:   0Online_boarding\n:   0Seat_comfort\n:   0Inflight_entertainment\n:   0On.board_service\n:   0Leg_room_service\n:   0Baggage_handling\n:   0Checkin_service\n:   0Inflight_service\n:   0Cleanliness\n:   0Departure_Delay_in_Minutes\n:   0Arrival_Delay_in_Minutes\n:   0satisfaction\n:   0\n\n",
            "text/latex": "\\begin{description*}\n\\item[SR] 0\n\\item[id] 0\n\\item[Gender] 0\n\\item[Customer\\textbackslash{}\\_Type] 0\n\\item[Age] 0\n\\item[Type\\textbackslash{}\\_of\\textbackslash{}\\_Travel] 0\n\\item[Class] 0\n\\item[Flight\\textbackslash{}\\_Distance] 0\n\\item[Inflight\\textbackslash{}\\_wifi\\textbackslash{}\\_service] 0\n\\item[Departure.Arrival\\textbackslash{}\\_time\\textbackslash{}\\_convenient] 0\n\\item[Ease\\textbackslash{}\\_of\\textbackslash{}\\_Online\\textbackslash{}\\_booking] 0\n\\item[Gate\\textbackslash{}\\_location] 0\n\\item[Food\\textbackslash{}\\_and\\textbackslash{}\\_drink] 0\n\\item[Online\\textbackslash{}\\_boarding] 0\n\\item[Seat\\textbackslash{}\\_comfort] 0\n\\item[Inflight\\textbackslash{}\\_entertainment] 0\n\\item[On.board\\textbackslash{}\\_service] 0\n\\item[Leg\\textbackslash{}\\_room\\textbackslash{}\\_service] 0\n\\item[Baggage\\textbackslash{}\\_handling] 0\n\\item[Checkin\\textbackslash{}\\_service] 0\n\\item[Inflight\\textbackslash{}\\_service] 0\n\\item[Cleanliness] 0\n\\item[Departure\\textbackslash{}\\_Delay\\textbackslash{}\\_in\\textbackslash{}\\_Minutes] 0\n\\item[Arrival\\textbackslash{}\\_Delay\\textbackslash{}\\_in\\textbackslash{}\\_Minutes] 0\n\\item[satisfaction] 0\n\\end{description*}\n",
            "text/plain": [
              "                               SR                                id \n",
              "                                0                                 0 \n",
              "                           Gender                     Customer_Type \n",
              "                                0                                 0 \n",
              "                              Age                    Type_of_Travel \n",
              "                                0                                 0 \n",
              "                            Class                   Flight_Distance \n",
              "                                0                                 0 \n",
              "            Inflight_wifi_service Departure.Arrival_time_convenient \n",
              "                                0                                 0 \n",
              "           Ease_of_Online_booking                     Gate_location \n",
              "                                0                                 0 \n",
              "                   Food_and_drink                   Online_boarding \n",
              "                                0                                 0 \n",
              "                     Seat_comfort            Inflight_entertainment \n",
              "                                0                                 0 \n",
              "                 On.board_service                  Leg_room_service \n",
              "                                0                                 0 \n",
              "                 Baggage_handling                   Checkin_service \n",
              "                                0                                 0 \n",
              "                 Inflight_service                       Cleanliness \n",
              "                                0                                 0 \n",
              "       Departure_Delay_in_Minutes          Arrival_Delay_in_Minutes \n",
              "                                0                                 0 \n",
              "                     satisfaction \n",
              "                                0 "
            ]
          },
          "metadata": {}
        }
      ],
      "source": [
        "sate <- na.omit(sat)\n",
        "colSums(is.na(sate))"
      ]
    },
    {
      "cell_type": "code",
      "execution_count": null,
      "metadata": {
        "colab": {
          "base_uri": "https://localhost:8080/",
          "height": 375
        },
        "id": "_EH4665kFLGw",
        "outputId": "e34277ae-3976-4378-cacb-c127936b7d58"
      },
      "outputs": [
        {
          "output_type": "display_data",
          "data": {
            "text/html": [
              "<table class=\"dataframe\">\n",
              "<caption>A data.frame: 6 × 25</caption>\n",
              "<thead>\n",
              "\t<tr><th></th><th scope=col>SR</th><th scope=col>id</th><th scope=col>Gender</th><th scope=col>Customer_Type</th><th scope=col>Age</th><th scope=col>Type_of_Travel</th><th scope=col>Class</th><th scope=col>Flight_Distance</th><th scope=col>Inflight_wifi_service</th><th scope=col>Departure.Arrival_time_convenient</th><th scope=col>⋯</th><th scope=col>Inflight_entertainment</th><th scope=col>On.board_service</th><th scope=col>Leg_room_service</th><th scope=col>Baggage_handling</th><th scope=col>Checkin_service</th><th scope=col>Inflight_service</th><th scope=col>Cleanliness</th><th scope=col>Departure_Delay_in_Minutes</th><th scope=col>Arrival_Delay_in_Minutes</th><th scope=col>satisfaction</th></tr>\n",
              "\t<tr><th></th><th scope=col>&lt;int&gt;</th><th scope=col>&lt;int&gt;</th><th scope=col>&lt;chr&gt;</th><th scope=col>&lt;chr&gt;</th><th scope=col>&lt;int&gt;</th><th scope=col>&lt;chr&gt;</th><th scope=col>&lt;chr&gt;</th><th scope=col>&lt;int&gt;</th><th scope=col>&lt;int&gt;</th><th scope=col>&lt;int&gt;</th><th scope=col>⋯</th><th scope=col>&lt;int&gt;</th><th scope=col>&lt;int&gt;</th><th scope=col>&lt;int&gt;</th><th scope=col>&lt;int&gt;</th><th scope=col>&lt;int&gt;</th><th scope=col>&lt;int&gt;</th><th scope=col>&lt;int&gt;</th><th scope=col>&lt;int&gt;</th><th scope=col>&lt;int&gt;</th><th scope=col>&lt;chr&gt;</th></tr>\n",
              "</thead>\n",
              "<tbody>\n",
              "\t<tr><th scope=row>1</th><td>0</td><td> 70172</td><td>Male  </td><td>Loyal Customer   </td><td>13</td><td>Personal Travel</td><td>Eco Plus</td><td> 460</td><td>3</td><td>4</td><td>⋯</td><td>5</td><td>4</td><td>3</td><td>4</td><td>4</td><td>5</td><td>5</td><td>25</td><td>18</td><td>neutral or dissatisfied</td></tr>\n",
              "\t<tr><th scope=row>2</th><td>1</td><td>  5047</td><td>Male  </td><td>disloyal Customer</td><td>25</td><td>Business travel</td><td>Business</td><td> 235</td><td>3</td><td>2</td><td>⋯</td><td>1</td><td>1</td><td>5</td><td>3</td><td>1</td><td>4</td><td>1</td><td> 1</td><td> 6</td><td>neutral or dissatisfied</td></tr>\n",
              "\t<tr><th scope=row>3</th><td>2</td><td>110028</td><td>Female</td><td>Loyal Customer   </td><td>26</td><td>Business travel</td><td>Business</td><td>1142</td><td>2</td><td>2</td><td>⋯</td><td>5</td><td>4</td><td>3</td><td>4</td><td>4</td><td>4</td><td>5</td><td> 0</td><td> 0</td><td>satisfied              </td></tr>\n",
              "\t<tr><th scope=row>4</th><td>3</td><td> 24026</td><td>Female</td><td>Loyal Customer   </td><td>25</td><td>Business travel</td><td>Business</td><td> 562</td><td>2</td><td>5</td><td>⋯</td><td>2</td><td>2</td><td>5</td><td>3</td><td>1</td><td>4</td><td>2</td><td>11</td><td> 9</td><td>neutral or dissatisfied</td></tr>\n",
              "\t<tr><th scope=row>5</th><td>4</td><td>119299</td><td>Male  </td><td>Loyal Customer   </td><td>61</td><td>Business travel</td><td>Business</td><td> 214</td><td>3</td><td>3</td><td>⋯</td><td>3</td><td>3</td><td>4</td><td>4</td><td>3</td><td>3</td><td>3</td><td> 0</td><td> 0</td><td>satisfied              </td></tr>\n",
              "\t<tr><th scope=row>6</th><td>5</td><td>111157</td><td>Female</td><td>Loyal Customer   </td><td>26</td><td>Personal Travel</td><td>Eco     </td><td>1180</td><td>3</td><td>4</td><td>⋯</td><td>1</td><td>3</td><td>4</td><td>4</td><td>4</td><td>4</td><td>1</td><td> 0</td><td> 0</td><td>neutral or dissatisfied</td></tr>\n",
              "</tbody>\n",
              "</table>\n"
            ],
            "text/markdown": "\nA data.frame: 6 × 25\n\n| <!--/--> | SR &lt;int&gt; | id &lt;int&gt; | Gender &lt;chr&gt; | Customer_Type &lt;chr&gt; | Age &lt;int&gt; | Type_of_Travel &lt;chr&gt; | Class &lt;chr&gt; | Flight_Distance &lt;int&gt; | Inflight_wifi_service &lt;int&gt; | Departure.Arrival_time_convenient &lt;int&gt; | ⋯ ⋯ | Inflight_entertainment &lt;int&gt; | On.board_service &lt;int&gt; | Leg_room_service &lt;int&gt; | Baggage_handling &lt;int&gt; | Checkin_service &lt;int&gt; | Inflight_service &lt;int&gt; | Cleanliness &lt;int&gt; | Departure_Delay_in_Minutes &lt;int&gt; | Arrival_Delay_in_Minutes &lt;int&gt; | satisfaction &lt;chr&gt; |\n|---|---|---|---|---|---|---|---|---|---|---|---|---|---|---|---|---|---|---|---|---|---|\n| 1 | 0 |  70172 | Male   | Loyal Customer    | 13 | Personal Travel | Eco Plus |  460 | 3 | 4 | ⋯ | 5 | 4 | 3 | 4 | 4 | 5 | 5 | 25 | 18 | neutral or dissatisfied |\n| 2 | 1 |   5047 | Male   | disloyal Customer | 25 | Business travel | Business |  235 | 3 | 2 | ⋯ | 1 | 1 | 5 | 3 | 1 | 4 | 1 |  1 |  6 | neutral or dissatisfied |\n| 3 | 2 | 110028 | Female | Loyal Customer    | 26 | Business travel | Business | 1142 | 2 | 2 | ⋯ | 5 | 4 | 3 | 4 | 4 | 4 | 5 |  0 |  0 | satisfied               |\n| 4 | 3 |  24026 | Female | Loyal Customer    | 25 | Business travel | Business |  562 | 2 | 5 | ⋯ | 2 | 2 | 5 | 3 | 1 | 4 | 2 | 11 |  9 | neutral or dissatisfied |\n| 5 | 4 | 119299 | Male   | Loyal Customer    | 61 | Business travel | Business |  214 | 3 | 3 | ⋯ | 3 | 3 | 4 | 4 | 3 | 3 | 3 |  0 |  0 | satisfied               |\n| 6 | 5 | 111157 | Female | Loyal Customer    | 26 | Personal Travel | Eco      | 1180 | 3 | 4 | ⋯ | 1 | 3 | 4 | 4 | 4 | 4 | 1 |  0 |  0 | neutral or dissatisfied |\n\n",
            "text/latex": "A data.frame: 6 × 25\n\\begin{tabular}{r|lllllllllllllllllllll}\n  & SR & id & Gender & Customer\\_Type & Age & Type\\_of\\_Travel & Class & Flight\\_Distance & Inflight\\_wifi\\_service & Departure.Arrival\\_time\\_convenient & ⋯ & Inflight\\_entertainment & On.board\\_service & Leg\\_room\\_service & Baggage\\_handling & Checkin\\_service & Inflight\\_service & Cleanliness & Departure\\_Delay\\_in\\_Minutes & Arrival\\_Delay\\_in\\_Minutes & satisfaction\\\\\n  & <int> & <int> & <chr> & <chr> & <int> & <chr> & <chr> & <int> & <int> & <int> & ⋯ & <int> & <int> & <int> & <int> & <int> & <int> & <int> & <int> & <int> & <chr>\\\\\n\\hline\n\t1 & 0 &  70172 & Male   & Loyal Customer    & 13 & Personal Travel & Eco Plus &  460 & 3 & 4 & ⋯ & 5 & 4 & 3 & 4 & 4 & 5 & 5 & 25 & 18 & neutral or dissatisfied\\\\\n\t2 & 1 &   5047 & Male   & disloyal Customer & 25 & Business travel & Business &  235 & 3 & 2 & ⋯ & 1 & 1 & 5 & 3 & 1 & 4 & 1 &  1 &  6 & neutral or dissatisfied\\\\\n\t3 & 2 & 110028 & Female & Loyal Customer    & 26 & Business travel & Business & 1142 & 2 & 2 & ⋯ & 5 & 4 & 3 & 4 & 4 & 4 & 5 &  0 &  0 & satisfied              \\\\\n\t4 & 3 &  24026 & Female & Loyal Customer    & 25 & Business travel & Business &  562 & 2 & 5 & ⋯ & 2 & 2 & 5 & 3 & 1 & 4 & 2 & 11 &  9 & neutral or dissatisfied\\\\\n\t5 & 4 & 119299 & Male   & Loyal Customer    & 61 & Business travel & Business &  214 & 3 & 3 & ⋯ & 3 & 3 & 4 & 4 & 3 & 3 & 3 &  0 &  0 & satisfied              \\\\\n\t6 & 5 & 111157 & Female & Loyal Customer    & 26 & Personal Travel & Eco      & 1180 & 3 & 4 & ⋯ & 1 & 3 & 4 & 4 & 4 & 4 & 1 &  0 &  0 & neutral or dissatisfied\\\\\n\\end{tabular}\n",
            "text/plain": [
              "  SR id     Gender Customer_Type     Age Type_of_Travel  Class   \n",
              "1 0   70172 Male   Loyal Customer    13  Personal Travel Eco Plus\n",
              "2 1    5047 Male   disloyal Customer 25  Business travel Business\n",
              "3 2  110028 Female Loyal Customer    26  Business travel Business\n",
              "4 3   24026 Female Loyal Customer    25  Business travel Business\n",
              "5 4  119299 Male   Loyal Customer    61  Business travel Business\n",
              "6 5  111157 Female Loyal Customer    26  Personal Travel Eco     \n",
              "  Flight_Distance Inflight_wifi_service Departure.Arrival_time_convenient ⋯\n",
              "1  460            3                     4                                 ⋯\n",
              "2  235            3                     2                                 ⋯\n",
              "3 1142            2                     2                                 ⋯\n",
              "4  562            2                     5                                 ⋯\n",
              "5  214            3                     3                                 ⋯\n",
              "6 1180            3                     4                                 ⋯\n",
              "  Inflight_entertainment On.board_service Leg_room_service Baggage_handling\n",
              "1 5                      4                3                4               \n",
              "2 1                      1                5                3               \n",
              "3 5                      4                3                4               \n",
              "4 2                      2                5                3               \n",
              "5 3                      3                4                4               \n",
              "6 1                      3                4                4               \n",
              "  Checkin_service Inflight_service Cleanliness Departure_Delay_in_Minutes\n",
              "1 4               5                5           25                        \n",
              "2 1               4                1            1                        \n",
              "3 4               4                5            0                        \n",
              "4 1               4                2           11                        \n",
              "5 3               3                3            0                        \n",
              "6 4               4                1            0                        \n",
              "  Arrival_Delay_in_Minutes satisfaction           \n",
              "1 18                       neutral or dissatisfied\n",
              "2  6                       neutral or dissatisfied\n",
              "3  0                       satisfied              \n",
              "4  9                       neutral or dissatisfied\n",
              "5  0                       satisfied              \n",
              "6  0                       neutral or dissatisfied"
            ]
          },
          "metadata": {}
        }
      ],
      "source": [
        "head(sate)"
      ]
    },
    {
      "cell_type": "code",
      "execution_count": null,
      "metadata": {
        "colab": {
          "base_uri": "https://localhost:8080/",
          "height": 397
        },
        "id": "0nqJ-CCIFLz4",
        "outputId": "271fc005-40e8-4166-e8ad-cb90da3d11b8"
      },
      "outputs": [
        {
          "output_type": "display_data",
          "data": {
            "text/plain": [
              "\n",
              "Call:\n",
              "lm(formula = Arrival_Delay_in_Minutes ~ Departure_Delay_in_Minutes, \n",
              "    data = train_data)\n",
              "\n",
              "Residuals:\n",
              "    Min      1Q  Median      3Q     Max \n",
              "-47.627  -2.114  -0.695  -0.455 236.331 \n",
              "\n",
              "Coefficients:\n",
              "                            Estimate Std. Error t value Pr(>|t|)    \n",
              "(Intercept)                0.6952628  0.0374460   18.57   <2e-16 ***\n",
              "Departure_Delay_in_Minutes 0.9799573  0.0009214 1063.53   <2e-16 ***\n",
              "---\n",
              "Signif. codes:  0 ‘***’ 0.001 ‘**’ 0.01 ‘*’ 0.05 ‘.’ 0.1 ‘ ’ 1\n",
              "\n",
              "Residual standard error: 10.05 on 82873 degrees of freedom\n",
              "Multiple R-squared:  0.9317,\tAdjusted R-squared:  0.9317 \n",
              "F-statistic: 1.131e+06 on 1 and 82873 DF,  p-value: < 2.2e-16\n"
            ]
          },
          "metadata": {}
        },
        {
          "output_type": "display_data",
          "data": {
            "text/html": [
              "10.2447414581709"
            ],
            "text/markdown": "10.2447414581709",
            "text/latex": "10.2447414581709",
            "text/plain": [
              "[1] 10.24474"
            ]
          },
          "metadata": {}
        },
        {
          "output_type": "display_data",
          "data": {
            "text/html": [
              "0.93215337092099"
            ],
            "text/markdown": "0.93215337092099",
            "text/latex": "0.93215337092099",
            "text/plain": [
              "[1] 0.9321534"
            ]
          },
          "metadata": {}
        }
      ],
      "source": [
        "# Split the data into training and testing sets\n",
        "set.seed(123)\n",
        "train_indices <- sample(1:nrow(sate), 0.8 * nrow(sate))\n",
        "train_data <- sate[train_indices, ]\n",
        "test_data <- sate[-train_indices,]\n",
        "# Build the linear regression model\n",
        "model <- lm(Arrival_Delay_in_Minutes ~Departure_Delay_in_Minutes, data = train_data)\n",
        "# Summarize the model\n",
        "summary(model)\n",
        "# Make predictions on the test set\n",
        "predictions <- predict(model, newdata = test_data)\n",
        "# Evaluate the model\n",
        "rmse <- sqrt(mean((test_data$Arrival_Delay_in_Minutes - test_data$Departure_Delay_in_Minutes)^2))\n",
        "rmse\n",
        "#out lier\n",
        "ml = lm(Arrival_Delay_in_Minutes~Departure_Delay_in_Minutes, data = sat)\n",
        "\n",
        "# Extracting R-squared parameter from summary\n",
        "summary(ml)$r.squared\n",
        "#مافي اوفر فيتنق"
      ]
    },
    {
      "cell_type": "code",
      "execution_count": null,
      "metadata": {
        "colab": {
          "base_uri": "https://localhost:8080/",
          "height": 379
        },
        "id": "PdQPfIvmFzQ4",
        "outputId": "18f57529-7f10-4c76-e911-aebe4bef95a5"
      },
      "outputs": [
        {
          "output_type": "display_data",
          "data": {
            "text/plain": [
              "\n",
              "Call:\n",
              "lm(formula = Inflight_entertainment ~ Cleanliness, data = train_data)\n",
              "\n",
              "Residuals:\n",
              "    Min      1Q  Median      3Q     Max \n",
              "-3.8590 -0.4519  0.1410  0.4375  3.2517 \n",
              "\n",
              "Coefficients:\n",
              "            Estimate Std. Error t value Pr(>|t|)    \n",
              "(Intercept) 1.044742   0.009004   116.0   <2e-16 ***\n",
              "Cleanliness 0.703558   0.002546   276.3   <2e-16 ***\n",
              "---\n",
              "Signif. codes:  0 ‘***’ 0.001 ‘**’ 0.01 ‘*’ 0.05 ‘.’ 0.1 ‘ ’ 1\n",
              "\n",
              "Residual standard error: 0.962 on 82873 degrees of freedom\n",
              "Multiple R-squared:  0.4795,\tAdjusted R-squared:  0.4795 \n",
              "F-statistic: 7.636e+04 on 1 and 82873 DF,  p-value: < 2.2e-16\n"
            ]
          },
          "metadata": {}
        },
        {
          "output_type": "display_data",
          "data": {
            "text/html": [
              "1.04512317267583"
            ],
            "text/markdown": "1.04512317267583",
            "text/latex": "1.04512317267583",
            "text/plain": [
              "[1] 1.045123"
            ]
          },
          "metadata": {}
        },
        {
          "output_type": "display_data",
          "data": {
            "text/html": [
              "0.47860749253182"
            ],
            "text/markdown": "0.47860749253182",
            "text/latex": "0.47860749253182",
            "text/plain": [
              "[1] 0.4786075"
            ]
          },
          "metadata": {}
        }
      ],
      "source": [
        "# Split the data into training and testing sets\n",
        "set.seed(123)\n",
        "train_indices <- sample(1:nrow(sate), 0.8 * nrow(sate))\n",
        "train_data <- sate[train_indices, ]\n",
        "test_data <- sate[-train_indices,]\n",
        "# Build the linear regression model\n",
        "model <- lm(Inflight_entertainment ~Cleanliness, data = train_data)\n",
        "# Summarize the model\n",
        "summary(model)\n",
        "# Make predictions on the test set\n",
        "predictions <- predict(model, newdata = test_data)\n",
        "# Evaluate the model\n",
        "rmse <- sqrt(mean((test_data$Inflight_entertainment - test_data$Cleanliness)^2))\n",
        "rmse\n",
        "#out lier\n",
        "ml = lm(Inflight_entertainment~Cleanliness, data = sat)\n",
        "\n",
        "# Extracting R-squared parameter from summary\n",
        "summary(ml)$r.squared\n",
        "#مافي اوفر فيتنق"
      ]
    },
    {
      "cell_type": "code",
      "source": [
        "#specify the cross-validation method\n",
        "ctrl <- trainControl(method = \"cv\", number = 5)\n",
        "\n",
        "#fit a regression model and use k-fold CV to evaluate performance\n",
        "model <- train(Arrival_Delay_in_Minutes ~ Departure_Delay_in_Minutes, data = sate, method = \"lm\", trControl = ctrl)\n",
        "\n",
        "#view summary of k-fold CV\n",
        "print(model)"
      ],
      "metadata": {
        "colab": {
          "base_uri": "https://localhost:8080/"
        },
        "id": "Q5RbvpxfUJBa",
        "outputId": "4f65c800-f4b7-4d13-aeb1-ad2a224f8f91"
      },
      "execution_count": null,
      "outputs": [
        {
          "output_type": "stream",
          "name": "stdout",
          "text": [
            "Linear Regression \n",
            "\n",
            "103594 samples\n",
            "     1 predictor\n",
            "\n",
            "No pre-processing\n",
            "Resampling: Cross-Validated (5 fold) \n",
            "Summary of sample sizes: 82875, 82875, 82875, 82875, 82876 \n",
            "Resampling results:\n",
            "\n",
            "  RMSE     Rsquared  MAE     \n",
            "  10.0794  0.931998  5.268106\n",
            "\n",
            "Tuning parameter 'intercept' was held constant at a value of TRUE\n"
          ]
        }
      ]
    },
    {
      "cell_type": "code",
      "source": [
        "#view final model\n",
        "model$finalModel"
      ],
      "metadata": {
        "colab": {
          "base_uri": "https://localhost:8080/",
          "height": 144
        },
        "id": "4hBXV0OoNc69",
        "outputId": "f98d1691-e05a-4007-b943-8fe0a071c691"
      },
      "execution_count": null,
      "outputs": [
        {
          "output_type": "display_data",
          "data": {
            "text/plain": [
              "\n",
              "Call:\n",
              "lm(formula = .outcome ~ ., data = dat)\n",
              "\n",
              "Coefficients:\n",
              "               (Intercept)  Departure_Delay_in_Minutes  \n",
              "                    0.7224                      0.9802  \n"
            ]
          },
          "metadata": {}
        }
      ]
    },
    {
      "cell_type": "code",
      "source": [
        "#view predictions for each fold\n",
        "model$resample"
      ],
      "metadata": {
        "colab": {
          "base_uri": "https://localhost:8080/",
          "height": 255
        },
        "id": "4Ur8SvWdNg76",
        "outputId": "a7103dc3-95d2-42a5-b194-a2fd2241ca78"
      },
      "execution_count": null,
      "outputs": [
        {
          "output_type": "display_data",
          "data": {
            "text/html": [
              "<table class=\"dataframe\">\n",
              "<caption>A data.frame: 5 × 4</caption>\n",
              "<thead>\n",
              "\t<tr><th scope=col>RMSE</th><th scope=col>Rsquared</th><th scope=col>MAE</th><th scope=col>Resample</th></tr>\n",
              "\t<tr><th scope=col>&lt;dbl&gt;</th><th scope=col>&lt;dbl&gt;</th><th scope=col>&lt;dbl&gt;</th><th scope=col>&lt;chr&gt;</th></tr>\n",
              "</thead>\n",
              "<tbody>\n",
              "\t<tr><td> 9.842766</td><td>0.9339861</td><td>5.204704</td><td>Fold1</td></tr>\n",
              "\t<tr><td>10.042209</td><td>0.9308458</td><td>5.223964</td><td>Fold2</td></tr>\n",
              "\t<tr><td>10.062904</td><td>0.9380657</td><td>5.281475</td><td>Fold3</td></tr>\n",
              "\t<tr><td>10.263896</td><td>0.9260565</td><td>5.339798</td><td>Fold4</td></tr>\n",
              "\t<tr><td>10.185205</td><td>0.9310360</td><td>5.290590</td><td>Fold5</td></tr>\n",
              "</tbody>\n",
              "</table>\n"
            ],
            "text/markdown": "\nA data.frame: 5 × 4\n\n| RMSE &lt;dbl&gt; | Rsquared &lt;dbl&gt; | MAE &lt;dbl&gt; | Resample &lt;chr&gt; |\n|---|---|---|---|\n|  9.842766 | 0.9339861 | 5.204704 | Fold1 |\n| 10.042209 | 0.9308458 | 5.223964 | Fold2 |\n| 10.062904 | 0.9380657 | 5.281475 | Fold3 |\n| 10.263896 | 0.9260565 | 5.339798 | Fold4 |\n| 10.185205 | 0.9310360 | 5.290590 | Fold5 |\n\n",
            "text/latex": "A data.frame: 5 × 4\n\\begin{tabular}{llll}\n RMSE & Rsquared & MAE & Resample\\\\\n <dbl> & <dbl> & <dbl> & <chr>\\\\\n\\hline\n\t  9.842766 & 0.9339861 & 5.204704 & Fold1\\\\\n\t 10.042209 & 0.9308458 & 5.223964 & Fold2\\\\\n\t 10.062904 & 0.9380657 & 5.281475 & Fold3\\\\\n\t 10.263896 & 0.9260565 & 5.339798 & Fold4\\\\\n\t 10.185205 & 0.9310360 & 5.290590 & Fold5\\\\\n\\end{tabular}\n",
            "text/plain": [
              "  RMSE      Rsquared  MAE      Resample\n",
              "1  9.842766 0.9339861 5.204704 Fold1   \n",
              "2 10.042209 0.9308458 5.223964 Fold2   \n",
              "3 10.062904 0.9380657 5.281475 Fold3   \n",
              "4 10.263896 0.9260565 5.339798 Fold4   \n",
              "5 10.185205 0.9310360 5.290590 Fold5   "
            ]
          },
          "metadata": {}
        }
      ]
    },
    {
      "cell_type": "code",
      "source": [
        "#specify the cross-validation method\n",
        "ctrl <- trainControl(method = \"cv\", number = 5)\n",
        "\n",
        "#fit a regression model and use k-fold CV to evaluate performance\n",
        "model <- train(Inflight_entertainment ~ Cleanliness, data = sate, method = \"lm\", trControl = ctrl)\n",
        "\n",
        "#view summary of k-fold CV\n",
        "print(model)"
      ],
      "metadata": {
        "colab": {
          "base_uri": "https://localhost:8080/"
        },
        "id": "g6Mv_Ek9LsSM",
        "outputId": "d6400c67-57b6-476c-b269-d9b197f33c21"
      },
      "execution_count": null,
      "outputs": [
        {
          "output_type": "stream",
          "name": "stdout",
          "text": [
            "Linear Regression \n",
            "\n",
            "103594 samples\n",
            "     1 predictor\n",
            "\n",
            "No pre-processing\n",
            "Resampling: Cross-Validated (5 fold) \n",
            "Summary of sample sizes: 82875, 82875, 82876, 82875, 82875 \n",
            "Resampling results:\n",
            "\n",
            "  RMSE       Rsquared   MAE      \n",
            "  0.9626232  0.4785744  0.6893164\n",
            "\n",
            "Tuning parameter 'intercept' was held constant at a value of TRUE\n"
          ]
        }
      ]
    },
    {
      "cell_type": "code",
      "source": [
        "#view final model\n",
        "model$finalModel"
      ],
      "metadata": {
        "colab": {
          "base_uri": "https://localhost:8080/",
          "height": 144
        },
        "id": "p7aLWrd-M5QD",
        "outputId": "3ed39b66-03cc-49a4-8bbc-2dd3f4210b43"
      },
      "execution_count": null,
      "outputs": [
        {
          "output_type": "display_data",
          "data": {
            "text/plain": [
              "\n",
              "Call:\n",
              "lm(formula = .outcome ~ ., data = dat)\n",
              "\n",
              "Coefficients:\n",
              "(Intercept)  Cleanliness  \n",
              "     1.0489       0.7027  \n"
            ]
          },
          "metadata": {}
        }
      ]
    },
    {
      "cell_type": "code",
      "source": [
        "#view predictions for each fold\n",
        "model$resample"
      ],
      "metadata": {
        "colab": {
          "base_uri": "https://localhost:8080/",
          "height": 255
        },
        "id": "h-pJetUHM9qk",
        "outputId": "d3b08981-8719-4e0c-c93c-43d7c840c76d"
      },
      "execution_count": null,
      "outputs": [
        {
          "output_type": "display_data",
          "data": {
            "text/html": [
              "<table class=\"dataframe\">\n",
              "<caption>A data.frame: 5 × 4</caption>\n",
              "<thead>\n",
              "\t<tr><th scope=col>RMSE</th><th scope=col>Rsquared</th><th scope=col>MAE</th><th scope=col>Resample</th></tr>\n",
              "\t<tr><th scope=col>&lt;dbl&gt;</th><th scope=col>&lt;dbl&gt;</th><th scope=col>&lt;dbl&gt;</th><th scope=col>&lt;chr&gt;</th></tr>\n",
              "</thead>\n",
              "<tbody>\n",
              "\t<tr><td>0.9520328</td><td>0.4916979</td><td>0.6864732</td><td>Fold1</td></tr>\n",
              "\t<tr><td>0.9513037</td><td>0.4866372</td><td>0.6835770</td><td>Fold2</td></tr>\n",
              "\t<tr><td>0.9786857</td><td>0.4620787</td><td>0.6978089</td><td>Fold3</td></tr>\n",
              "\t<tr><td>0.9611178</td><td>0.4790868</td><td>0.6866842</td><td>Fold4</td></tr>\n",
              "\t<tr><td>0.9699761</td><td>0.4733713</td><td>0.6920388</td><td>Fold5</td></tr>\n",
              "</tbody>\n",
              "</table>\n"
            ],
            "text/markdown": "\nA data.frame: 5 × 4\n\n| RMSE &lt;dbl&gt; | Rsquared &lt;dbl&gt; | MAE &lt;dbl&gt; | Resample &lt;chr&gt; |\n|---|---|---|---|\n| 0.9520328 | 0.4916979 | 0.6864732 | Fold1 |\n| 0.9513037 | 0.4866372 | 0.6835770 | Fold2 |\n| 0.9786857 | 0.4620787 | 0.6978089 | Fold3 |\n| 0.9611178 | 0.4790868 | 0.6866842 | Fold4 |\n| 0.9699761 | 0.4733713 | 0.6920388 | Fold5 |\n\n",
            "text/latex": "A data.frame: 5 × 4\n\\begin{tabular}{llll}\n RMSE & Rsquared & MAE & Resample\\\\\n <dbl> & <dbl> & <dbl> & <chr>\\\\\n\\hline\n\t 0.9520328 & 0.4916979 & 0.6864732 & Fold1\\\\\n\t 0.9513037 & 0.4866372 & 0.6835770 & Fold2\\\\\n\t 0.9786857 & 0.4620787 & 0.6978089 & Fold3\\\\\n\t 0.9611178 & 0.4790868 & 0.6866842 & Fold4\\\\\n\t 0.9699761 & 0.4733713 & 0.6920388 & Fold5\\\\\n\\end{tabular}\n",
            "text/plain": [
              "  RMSE      Rsquared  MAE       Resample\n",
              "1 0.9520328 0.4916979 0.6864732 Fold1   \n",
              "2 0.9513037 0.4866372 0.6835770 Fold2   \n",
              "3 0.9786857 0.4620787 0.6978089 Fold3   \n",
              "4 0.9611178 0.4790868 0.6866842 Fold4   \n",
              "5 0.9699761 0.4733713 0.6920388 Fold5   "
            ]
          },
          "metadata": {}
        }
      ]
    }
  ],
  "metadata": {
    "colab": {
      "provenance": []
    },
    "kernelspec": {
      "display_name": "R",
      "name": "ir"
    },
    "language_info": {
      "name": "R"
    }
  },
  "nbformat": 4,
  "nbformat_minor": 0
}